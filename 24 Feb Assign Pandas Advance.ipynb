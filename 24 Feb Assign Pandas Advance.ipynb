{
 "cells": [
  {
   "cell_type": "code",
   "execution_count": null,
   "id": "df15a367-9050-41ff-a7e4-487d2a5a1580",
   "metadata": {},
   "outputs": [],
   "source": [
    "\"\"\"Q1. List any five functions of the pandas library with execution.\n",
    "\n",
    "    Ans: five functions of the Pandas library in Python along with their execution:\n",
    "\n",
    "        1. read_csv(): This function reads a CSV file into a Pandas DataFrame.\n",
    "            import pandas as pd\n",
    "            df = pd.read_csv('example.csv')\n",
    "            \n",
    "        2. head(): This function returns the first n rows of a DataFrame.\n",
    "            df.head()\n",
    "        \n",
    "        3. tail(): This function returns the last n rows of a DataFrame.\n",
    "            df.tail()\n",
    "            \n",
    "        4. describe(): This function generates descriptive statistics of a DataFrame.\n",
    "            df.describe()\n",
    "            \n",
    "        5. drop(): This function removes one or more columns or rows from a DataFrame.\n",
    "            df.drop('Sales')\n",
    "\"\"\""
   ]
  },
  {
   "cell_type": "code",
   "execution_count": null,
   "id": "f4a252a7-8672-4bd1-849e-38c4601e4581",
   "metadata": {},
   "outputs": [],
   "source": [
    "\"\"\"Q2. Given a Pandas DataFrame df with columns 'A', 'B', and 'C', write a Python function to re-index the DataFrame with a new index \n",
    "        that starts from 1 and increments by 2 for each row.\n",
    "\n",
    "    Ans: \n",
    "\"\"\"\n",
    "import pandas as pd\n",
    "\n",
    "def reindex_df(df):\n",
    "    new_index = range(1, 2*len(df)+1, 2)\n",
    "    new_df = df.set_index(pd.Index(new_index))\n",
    "    return new_df\n",
    "new_df = reindex_df(df)\n",
    "print(new_df)"
   ]
  },
  {
   "cell_type": "code",
   "execution_count": null,
   "id": "00d784f1-09ff-4fe0-b7d8-e8db8855ab24",
   "metadata": {},
   "outputs": [],
   "source": [
    "\"\"\"Q3. You have a Pandas DataFrame df with a column named 'Values'. Write a Python function that iterates over the DataFrame and calculates \n",
    "        the sum of the first three values in the 'Values' column. The function should print the sum to the console. \n",
    "        For example, if the 'Values' column of df contains the values [10, 20, 30, 40, 50], your function should \n",
    "        calculate and print the sum of the first three values, which is 60.\n",
    "\n",
    "    Ans:   \n",
    "\"\"\"\n",
    "import pandas as pd\n",
    "\n",
    "def sum_first_three(df):\n",
    "    values = df['Values'][:3]\n",
    "    sum_values = sum(values)\n",
    "    print(\"Sum of the first three values in 'Values' column: \", sum_values)\n",
    "df = pd.DataFrame({'Values': [10, 20, 30, 40, 50]})\n",
    "print(\"Original DataFrame:\")\n",
    "print(df)\n",
    "sum_first_three(df)\n"
   ]
  },
  {
   "cell_type": "code",
   "execution_count": null,
   "id": "2d57c9ba-e13e-4458-b9f6-24739a18e480",
   "metadata": {},
   "outputs": [],
   "source": [
    "\"\"\"Q4. Given a Pandas DataFrame df with a column 'Text', write a Python function to create a new column 'Word_Count' \n",
    "        that contains the number of words in each row of the 'Text' column.\n",
    "        \n",
    "    Ans: \n",
    "\"\"\"\n",
    "import pandas as pd\n",
    "\n",
    "def add_word_count_column(df):\n",
    "    df['Word_Count'] = df['Text'].apply(lambda x: len(str(x).split()))\n",
    "    return df\n",
    "df = add_word_count_column(df)"
   ]
  },
  {
   "cell_type": "code",
   "execution_count": null,
   "id": "adce177e-ab52-4fbb-b3d6-29723f2be594",
   "metadata": {},
   "outputs": [],
   "source": [
    "\"\"\"Q5. How are DataFrame.size() and DataFrame.shape() different?\n",
    "\n",
    "    Ans: DataFrame.size returns the total number of elements in the DataFrame, which is equivalent to the product of the \n",
    "         number of rows and the number of columns. The size attribute returns a single integer value.\n",
    "         DataFrame.shape, on the other hand, returns a tuple containing the number of rows and columns in the DataFrame, respectively. \n",
    "         The shape attribute returns a tuple of integers.\n",
    "\"\"\""
   ]
  },
  {
   "cell_type": "code",
   "execution_count": null,
   "id": "789c1c3d-9720-4625-9834-16ce6a06f4d0",
   "metadata": {},
   "outputs": [],
   "source": [
    "\"\"\"Q6. Which function of pandas do we use to read an excel file?\n",
    "    Ans: \n",
    "\"\"\"\n",
    "df = pd.read_excel('example.xlsx')"
   ]
  },
  {
   "cell_type": "code",
   "execution_count": null,
   "id": "a8148cb6-ddce-4ba9-b0b1-df400a5fe1e8",
   "metadata": {},
   "outputs": [],
   "source": [
    "\"\"\"Q7. You have a Pandas DataFrame df that contains a column named 'Email' that contains email addresses in the format'username@domain.com \n",
    "        Write a Python function that creates a new column 'Username' in df that contains only the username part of each email address.\n",
    "        The username is the part of the email address that appears before the '@' symbol. For example, if the email address is \n",
    "        'john.doe@example.com', the 'Username' column should contain 'john.doe'. Your function should extract the username from \n",
    "        each email address and store it in the new 'Username' column.\n",
    "        \n",
    "    Ans: \n",
    "\"\"\"\n",
    "df['Username'] = df['Email'].apply(lambda x: str(x).split('@')[0])"
   ]
  },
  {
   "cell_type": "code",
   "execution_count": null,
   "id": "11a07704-e8c1-4d66-8146-039dd615a4e6",
   "metadata": {},
   "outputs": [],
   "source": [
    "\"\"\"Q8. You have a Pandas DataFrame df with columns 'A', 'B', and 'C'. Write a Python function that selects all rows where the value in \n",
    "        column 'A' is greater than 5 and the value in column 'B' is less than 10. The function should return a new DataFrame that \n",
    "        contains only the selected rows.\n",
    "        For example, if df contains the following values:\n",
    "            A B C\n",
    "            0 3 5 1\n",
    "            1 8 2 7\n",
    "            2 6 9 4\n",
    "            3 2 3 5\n",
    "            4 9 1 2\n",
    "        Your function should select the following rows: A B C\n",
    "        1 8 2 7\n",
    "        4 9 1 2\n",
    "        The function should return a new DataFrame that contains only the selected rows.\n",
    "        \n",
    "    Ans: \n",
    "\"\"\"\n",
    "import pandas as pd\n",
    "\n",
    "def select_rows(df):\n",
    "    selected_rows = df[(df['A'] > 5) & (df['B'] < 10)]\n",
    "    return selected_rows\n",
    "\n",
    "selected_rows = select_rows(df)"
   ]
  },
  {
   "cell_type": "code",
   "execution_count": null,
   "id": "eb0eb54d-7d82-4b23-bf4c-fdb4a7071495",
   "metadata": {},
   "outputs": [],
   "source": [
    "\"\"\"Q9. Given a Pandas DataFrame df with a column 'Values', write a Python function to calculate the mean, median, \n",
    "        and standard deviation of the values in the 'Values' column.\n",
    "\n",
    "    Ans: \n",
    "\"\"\"\n",
    "def calculate_stats(df):\n",
    "    mean_value = df['Values'].mean()\n",
    "    median_value = df['Values'].median()\n",
    "    std_value = df['Values'].std()\n",
    "    return mean_value, median_value, std_value\n",
    "mean_value, median_value, std_value = calculate_stats(df)"
   ]
  },
  {
   "cell_type": "code",
   "execution_count": null,
   "id": "70417576-bd92-4bf9-b689-2a61cc3dcbba",
   "metadata": {},
   "outputs": [],
   "source": [
    "\"\"\"Q10. Given a Pandas DataFrame df with a column 'Sales' and a column 'Date', write a Python function to create a new column \n",
    "        'MovingAverage' that contains the moving average of the sales for the past 7 days for each row in the DataFrame. \n",
    "        The moving average should be calculated using a window of size 7 and should include the current day.\n",
    "        \n",
    "    Ans: \n",
    "\"\"\"\n",
    "def calculate_moving_average(df):\n",
    "    df['MovingAverage'] = df['Sales'].rolling(window=7, min_periods=1).mean()\n",
    "    return df\n",
    "new_df = calculate_moving_average(df)"
   ]
  },
  {
   "cell_type": "code",
   "execution_count": null,
   "id": "65999bd6-5bb7-41db-bcc6-ff106056d51a",
   "metadata": {},
   "outputs": [],
   "source": [
    "\"\"\"Q11. You have a Pandas DataFrame df with a column 'Date'. Write a Python function that creates a new column 'Weekday' in the DataFrame. \n",
    "        The 'Weekday' column should contain the weekday name (e.g. Monday, Tuesday) corresponding to each date in the 'Date' column.\n",
    "        For example, if df contains the following values:\n",
    "        Date\n",
    "        0 2023-01-01\n",
    "        1 2023-01-02\n",
    "        2 2023-01-03\n",
    "        3 2023-01-04\n",
    "        4 2023-01-05\n",
    "        Your function should create the following DataFrame:\n",
    "        Date Weekday\n",
    "        0 2023-01-01 Sunday\n",
    "        1 2023-01-02 Monday\n",
    "        2 2023-01-03 Tuesday\n",
    "        3 2023-01-04 Wednesday\n",
    "        4 2023-01-05 Thursday\n",
    "        The function should return the modified DataFrame.\n",
    "        \n",
    "    Ans:\n",
    "\"\"\"\n",
    "import pandas as pd\n",
    "\n",
    "def add_weekday_column(df):\n",
    "    df['Weekday'] = df['Date'].dt.day_name()\n",
    "    return df\n",
    "new_df = add_weekday_column(df)"
   ]
  },
  {
   "cell_type": "code",
   "execution_count": null,
   "id": "5761bf2e-3865-4d71-af24-90abc28fd03c",
   "metadata": {},
   "outputs": [],
   "source": [
    "\"\"\"Q12. Given a Pandas DataFrame df with a column 'Date' that contains timestamps, write a Python function to select all rows \n",
    "        where the date is between '2023-01-01' and '2023-01-31'.\n",
    "        \n",
    "    Ans: \n",
    "\"\"\"\n",
    "def select_january_data(df):\n",
    "    # Convert date string to datetime object\n",
    "    df['Date'] = pd.to_datetime(df['Date'])\n",
    "    \n",
    "    # Select rows where date is between '2023-01-01' and '2023-01-31'\n",
    "    mask = (df['Date'] >= '2023-01-01') & (df['Date'] <= '2023-01-31')\n",
    "    new_df = df.loc[mask]\n",
    "    \n",
    "    return new_df\n",
    "\n",
    "new_df = select_january_data(df)"
   ]
  },
  {
   "cell_type": "code",
   "execution_count": null,
   "id": "845ea849-7011-4d80-b46d-40818ecaa193",
   "metadata": {},
   "outputs": [],
   "source": [
    "\"\"\"Q13. To use the basic functions of pandas, what is the first and foremost necessary library that needs to be imported?\n",
    "\n",
    "    Ans: to use the basic function of pandas, we first need to import pandas\n",
    "\"\"\"\n",
    "import pandas as pd"
   ]
  }
 ],
 "metadata": {
  "kernelspec": {
   "display_name": "Python 3 (ipykernel)",
   "language": "python",
   "name": "python3"
  },
  "language_info": {
   "codemirror_mode": {
    "name": "ipython",
    "version": 3
   },
   "file_extension": ".py",
   "mimetype": "text/x-python",
   "name": "python",
   "nbconvert_exporter": "python",
   "pygments_lexer": "ipython3",
   "version": "3.10.8"
  }
 },
 "nbformat": 4,
 "nbformat_minor": 5
}
